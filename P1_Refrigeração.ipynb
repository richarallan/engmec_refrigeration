{
  "nbformat": 4,
  "nbformat_minor": 0,
  "metadata": {
    "colab": {
      "name": "P1 Refrigeração.ipynb",
      "provenance": [],
      "authorship_tag": "ABX9TyMXo+u201cTtnqN9oYm+8Qx",
      "include_colab_link": true
    },
    "kernelspec": {
      "name": "python3",
      "display_name": "Python 3"
    },
    "language_info": {
      "name": "python"
    }
  },
  "cells": [
    {
      "cell_type": "markdown",
      "metadata": {
        "id": "view-in-github",
        "colab_type": "text"
      },
      "source": [
        "<a href=\"https://colab.research.google.com/github/richarallan/engmec_refrigeration/blob/main/P1_Refrigera%C3%A7%C3%A3o.ipynb\" target=\"_parent\"><img src=\"https://colab.research.google.com/assets/colab-badge.svg\" alt=\"Open In Colab\"/></a>"
      ]
    },
    {
      "cell_type": "code",
      "metadata": {
        "colab": {
          "base_uri": "https://localhost:8080/",
          "height": 0
        },
        "id": "NsYmviIpdV-t",
        "outputId": "94c88606-6077-4a63-fc74-094ee74e2f72"
      },
      "source": [
        "!pip install coolprop"
      ],
      "execution_count": 1,
      "outputs": [
        {
          "output_type": "stream",
          "text": [
            "Collecting coolprop\n",
            "\u001b[?25l  Downloading https://files.pythonhosted.org/packages/2d/c9/321ff0b7ddefbfdb653ff9a4eb7bf3cf812c94ff162d24fd6f12c7bcc808/CoolProp-6.4.1-cp37-cp37m-manylinux1_x86_64.whl (4.2MB)\n",
            "\u001b[K     |████████████████████████████████| 4.2MB 3.9MB/s \n",
            "\u001b[?25hInstalling collected packages: coolprop\n",
            "Successfully installed coolprop-6.4.1\n"
          ],
          "name": "stdout"
        }
      ]
    },
    {
      "cell_type": "code",
      "metadata": {
        "id": "BXO7F273dipU"
      },
      "source": [
        "from CoolProp.CoolProp import PropsSI\n",
        "from CoolProp.CoolProp import HAPropsSI"
      ],
      "execution_count": 4,
      "outputs": []
    },
    {
      "cell_type": "markdown",
      "metadata": {
        "id": "VO-W8qHadxdi"
      },
      "source": [
        "#Desenvolvimento Questão 1"
      ]
    },
    {
      "cell_type": "code",
      "metadata": {
        "colab": {
          "base_uri": "https://localhost:8080/",
          "height": 0
        },
        "id": "xAS2AXcZeIcB",
        "outputId": "6397e183-4c84-47b9-f022-f16cde289927"
      },
      "source": [
        "#Propriedades 1:\n",
        "P1 = 131*10**3 #PA\n",
        "x1 = 1 #vapor saturado\n",
        "\n",
        "T1 = PropsSI('T', 'P', P1, 'Q', x1, 'R717')\n",
        "print(\"T1 = \", T1 - 273.15, \"ºC\")\n",
        "h1 = PropsSI('H', 'P', P1, 'Q', x1, 'R717')\n",
        "print(\"h1 = \", h1 / 1000, \"kJ/kg\")\n",
        "s1 = PropsSI('S', 'P', P1, 'Q', x1, 'R717')\n",
        "print(\"s1 = \", s1 / 1000, \"kJ/kg\")"
      ],
      "execution_count": 7,
      "outputs": [
        {
          "output_type": "stream",
          "text": [
            "T1 =  -28.07364817989756 ºC\n",
            "h1 =  1571.795396872223 kJ/kg\n",
            "s1 =  6.516140273504644 kJ/kg\n"
          ],
          "name": "stdout"
        }
      ]
    },
    {
      "cell_type": "code",
      "metadata": {
        "colab": {
          "base_uri": "https://localhost:8080/",
          "height": 0
        },
        "id": "X50PBWm7jeK7",
        "outputId": "34e17c98-8fe1-4b98-d1dd-5549eac2635c"
      },
      "source": [
        "#Propriedades 8\n",
        "P8 = 483*10**3 #PA\n",
        "x8 = 1 #vapor saturado\n",
        "\n",
        "T8 = PropsSI('T', 'P', P8, 'Q', x8, 'R717')\n",
        "print(\"T8 = \", T8 - 273.15, \"ºC\")\n",
        "h8 = PropsSI('H', 'P', P8, 'Q', x8, 'R717')\n",
        "print(\"h8 = \", h8 / 1000, \"kJ/kg\")\n",
        "s8 = PropsSI('S', 'P', P8, 'Q', x8, 'R717')\n",
        "print(\"s8 = \", s8 / 1000, \"kJ/kg\")"
      ],
      "execution_count": 8,
      "outputs": [
        {
          "output_type": "stream",
          "text": [
            "T8 =  3.1964102202331333 ºC\n",
            "h8 =  1610.807717716602 kJ/kg\n",
            "s8 =  6.061564402287593 kJ/kg\n"
          ],
          "name": "stdout"
        }
      ]
    },
    {
      "cell_type": "code",
      "metadata": {
        "colab": {
          "base_uri": "https://localhost:8080/",
          "height": 0
        },
        "id": "s2vhsU3fkd79",
        "outputId": "29aadaed-f419-4978-b56a-5f956280461c"
      },
      "source": [
        "#Propriedades 2\n",
        "eta_iso = 0.75\n",
        "P2 = P8\n",
        "s2s = s1 #processo isentrópico\n",
        "h2s = PropsSI('H', 'P', P2, 'S', s2s, 'R717')\n",
        "print(\"h2s = \", h2s / 1000, \"kJ/kg\")\n",
        "h2 = (h2s - h1) / eta_iso + h1\n",
        "print(\"h2 = \", h2 / 1000, \"kJ/kg\")\n",
        "s2 = PropsSI('S', 'P', P2, 'H', h2, 'R717')\n",
        "print(\"s2 = \", s2 / 1000, \"kJ/qkg\")"
      ],
      "execution_count": 12,
      "outputs": [
        {
          "output_type": "stream",
          "text": [
            "h2s =  1748.284539856101 kJ/kg\n",
            "h2 =  1807.1142541840602 kJ/kg\n",
            "s2 =  6.687176020911282 kJ/qkg\n"
          ],
          "name": "stdout"
        }
      ]
    },
    {
      "cell_type": "code",
      "metadata": {
        "colab": {
          "base_uri": "https://localhost:8080/",
          "height": 0
        },
        "id": "aWKVWAILltAz",
        "outputId": "f318f079-f6d8-4231-cf5a-dc6e9dce5042"
      },
      "source": [
        "#Propriedades 5\n",
        "P5 = 1303*10**3 #PA\n",
        "x5 = 0 #Líquido saturado\n",
        "\n",
        "h5 = PropsSI('H', 'P', P5, 'Q', x5, 'R717')\n",
        "print(\"h5 = \", h5 / 1000, \"kJ/kg\")\n",
        "T5 = PropsSI('T', 'P', P5, 'Q', x5, 'R717')\n",
        "print(\"T5 = \", T5 - 273.15, \"ºC\")"
      ],
      "execution_count": 16,
      "outputs": [
        {
          "output_type": "stream",
          "text": [
            "h5 =  505.55731406203995 kJ/kg\n",
            "T5 =  33.770968655365095 ºC\n"
          ],
          "name": "stdout"
        }
      ]
    },
    {
      "cell_type": "code",
      "metadata": {
        "colab": {
          "base_uri": "https://localhost:8080/",
          "height": 0
        },
        "id": "XXHzrTNMpoUs",
        "outputId": "c11dcb36-42bb-43ef-885f-1eb7d611a749"
      },
      "source": [
        "#Propriedades 4\n",
        "s4s = s3\n",
        "P4 = P5\n",
        "\n",
        "h4s = PropsSI('H', 'P', P4, 'S', s4s, 'R717')\n",
        "print(\"h4s = \", h4s / 1000, \"kJ/kg\")\n",
        "h4 = (h4s - h3) /eta_iso + h3\n",
        "print(\"h4 = \", h4 / 1000, \"kJ/kg\")\n",
        "s4 = PropsSI('S', 'P', P4, 'H', h4, 'R717')\n",
        "print(\"s4 = \", s4 / 1000, \"kJ/kg\")"
      ],
      "execution_count": 31,
      "outputs": [
        {
          "output_type": "stream",
          "text": [
            "h4s =  1894.0808206494478 kJ/kg\n",
            "h4 =  1948.0070943345736 kJ/kg\n",
            "s4 =  6.579197193650383 kJ/kg\n"
          ],
          "name": "stdout"
        }
      ]
    },
    {
      "cell_type": "code",
      "metadata": {
        "colab": {
          "base_uri": "https://localhost:8080/",
          "height": 0
        },
        "id": "4KspYYNLm20L",
        "outputId": "3081466c-fde4-48a1-fef0-4117a91cc1b3"
      },
      "source": [
        "#Propriedades 6\n",
        "h6 = h5 #processo isentalpico\n",
        "P6 = P8\n",
        "T6 = PropsSI('T', 'P', P6, 'H', h6, 'R717')\n",
        "print(\"T6 = \", T6 - 273.15, \"ºC\")"
      ],
      "execution_count": 22,
      "outputs": [
        {
          "output_type": "stream",
          "text": [
            "T6 =  3.1964102202331333 ºC\n"
          ],
          "name": "stdout"
        }
      ]
    },
    {
      "cell_type": "code",
      "metadata": {
        "id": "zvmFh3wpnah0"
      },
      "source": [
        "#Propriedades 7\n",
        "h7 = h6 #Processo isentalpico\n",
        "P7 = P1"
      ],
      "execution_count": 23,
      "outputs": []
    },
    {
      "cell_type": "code",
      "metadata": {
        "colab": {
          "base_uri": "https://localhost:8080/",
          "height": 0
        },
        "id": "1N9jhtv7nif8",
        "outputId": "f08c7fb2-35c9-47c1-a89f-f6db3fcc734e"
      },
      "source": [
        "Qevp1 = 30*10**3 #kW\n",
        "Qevp2 = 47*10**3 #kW\n",
        "\n",
        "m8 = Qevp1 / (h8 - h6)\n",
        "print(\"m8 = \", m8, \"kg/s\")\n",
        "m1 = Qevp2 / (h1 - h7)\n",
        "print(\"m1 = \", m1, \"kg/s\")"
      ],
      "execution_count": 24,
      "outputs": [
        {
          "output_type": "stream",
          "text": [
            "m8 =  0.027143170362845928 kg/s\n",
            "m1 =  0.0440802113127741 kg/s\n"
          ],
          "name": "stdout"
        }
      ]
    },
    {
      "cell_type": "code",
      "metadata": {
        "colab": {
          "base_uri": "https://localhost:8080/",
          "height": 0
        },
        "id": "SsfPj2rqol3-",
        "outputId": "f2edaf5c-b6ca-416a-d08d-11824c4c4473"
      },
      "source": [
        "#Trocador => Contato direto\n",
        "#Balanço de Massa\n",
        "m2 = m1\n",
        "m3 = m1 + m8\n",
        "print(\"m3 = \", m3, \"kg/s\")"
      ],
      "execution_count": 26,
      "outputs": [
        {
          "output_type": "stream",
          "text": [
            "m3 =  0.07122338167562003 kg/s\n"
          ],
          "name": "stdout"
        }
      ]
    },
    {
      "cell_type": "code",
      "metadata": {
        "colab": {
          "base_uri": "https://localhost:8080/",
          "height": 0
        },
        "id": "Xc3Gaq2oo7eC",
        "outputId": "ee4f758c-2706-41d1-c127-c2c0ad823508"
      },
      "source": [
        "#Balanço de energia\n",
        "h3 = (m2 * h2 + m8 * h8) / m3\n",
        "print(\"h3 = \", h3 / 1000, \"kJ/kg\")"
      ],
      "execution_count": 29,
      "outputs": [
        {
          "output_type": "stream",
          "text": [
            "h3 =  1732.301999594071 kJ/kg\n"
          ],
          "name": "stdout"
        }
      ]
    },
    {
      "cell_type": "code",
      "metadata": {
        "colab": {
          "base_uri": "https://localhost:8080/",
          "height": 0
        },
        "id": "AB-cPGTJpSrZ",
        "outputId": "8abb93ad-91d1-41d0-e76f-1f461b72780b"
      },
      "source": [
        "#Balanço de entropia\n",
        "s3 = (m2 * s2 + m8 * s8) / m3\n",
        "print(\"s3 = \", s3 / 1000, \"kJ/kg\")"
      ],
      "execution_count": 30,
      "outputs": [
        {
          "output_type": "stream",
          "text": [
            "s3 =  6.448755963539992 kJ/kg\n"
          ],
          "name": "stdout"
        }
      ]
    },
    {
      "cell_type": "code",
      "metadata": {
        "colab": {
          "base_uri": "https://localhost:8080/",
          "height": 0
        },
        "id": "Lh6H4T7nqP-8",
        "outputId": "23475a71-f3b5-4cd8-cd47-6f559f70f5c8"
      },
      "source": [
        "w1 = m1 * (h2 - h1)\n",
        "print(\"w1 = \", w1 / 1000, \"kW\")\n",
        "w2 = m3 * (h4 - h3)\n",
        "print(\"w2 = \", w2 / 1000, \"kJ/kg\")\n",
        "COP = (Qevp1 + Qevp2) / (w1 + w2)\n",
        "print(\"COP = \", COP)"
      ],
      "execution_count": 32,
      "outputs": [
        {
          "output_type": "stream",
          "text": [
            "w1 =  10.372904956186328 kW\n",
            "w2 =  15.36324629207859 kJ/kg\n",
            "COP =  2.991900352823392\n"
          ],
          "name": "stdout"
        }
      ]
    }
  ]
}